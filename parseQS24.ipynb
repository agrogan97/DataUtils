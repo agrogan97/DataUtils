{
 "cells": [
  {
   "cell_type": "code",
   "execution_count": 1,
   "metadata": {},
   "outputs": [],
   "source": [
    "import json\n",
    "import pandas as pd\n",
    "import urllib.parse\n",
    "from collections import Counter\n",
    "import numpy as np"
   ]
  },
  {
   "cell_type": "code",
   "execution_count": 2,
   "metadata": {},
   "outputs": [],
   "source": [
    "with open('yr4/180124.json', 'rb') as h:\n",
    "    qs = json.load(h)"
   ]
  },
  {
   "cell_type": "code",
   "execution_count": 29,
   "metadata": {},
   "outputs": [
    {
     "ename": "TypeError",
     "evalue": "string indices must be integers",
     "output_type": "error",
     "traceback": [
      "\u001b[0;31m---------------------------------------------------------------------------\u001b[0m",
      "\u001b[0;31mTypeError\u001b[0m                                 Traceback (most recent call last)",
      "Cell \u001b[0;32mIn[29], line 1\u001b[0m\n\u001b[0;32m----> 1\u001b[0m json\u001b[39m.\u001b[39mloads(qs[\u001b[39m0\u001b[39;49m][\u001b[39m'\u001b[39;49m\u001b[39mfields\u001b[39;49m\u001b[39m'\u001b[39;49m][\u001b[39m'\u001b[39;49m\u001b[39mrawData\u001b[39;49m\u001b[39m'\u001b[39;49m][\u001b[39m'\u001b[39;49m\u001b[39msdata\u001b[39;49m\u001b[39m'\u001b[39;49m])\n",
      "\u001b[0;31mTypeError\u001b[0m: string indices must be integers"
     ]
    }
   ],
   "source": [
    "json.loads(qs[0]['fields']['rawData']['sdata'])"
   ]
  },
  {
   "cell_type": "code",
   "execution_count": 23,
   "metadata": {},
   "outputs": [],
   "source": [
    "# jsonData = qs[0].replace(\"'\", '\"')\n",
    "# data = json.loads(jsonData)"
   ]
  },
  {
   "cell_type": "code",
   "execution_count": 30,
   "metadata": {},
   "outputs": [],
   "source": [
    "def clean(rawData):\n",
    "    cleanData = {}\n",
    "    for userAll in rawData:\n",
    "        pk = userAll['pk']\n",
    "        user = userAll['fields']\n",
    "        tmp = {\n",
    "            'pk' : pk,\n",
    "            'userId' : urllib.parse.quote(user['userId']),\n",
    "            'rawData' : json.loads(user['rawData']),\n",
    "            'sdata' : None,\n",
    "            'edata' : user['edata'],\n",
    "            'parameters' : user['parameters'],\n",
    "            'totalAttempts' : None,\n",
    "            'completed' : user['completeAttempt'],\n",
    "            'lastCompletedRound' : None,\n",
    "            'lastTrialGame' : None,\n",
    "            'finalRooms' : [],\n",
    "            'userIP' : user['userIP'],\n",
    "            'urlParameters' : user['urlParameters'],\n",
    "            'timestamps' : [],\n",
    "            'timeCreated' : user['timeCreated'],\n",
    "            'lastModified' : user['lastModified']\n",
    "        }\n",
    "        # Check how many attempts the user has had\n",
    "        tmp['totalAttempts'] = len(tmp['rawData'])\n",
    "        # Store timestamp/s\n",
    "        tmp['timestamps'] = list(tmp['rawData'].keys())\n",
    "        # If it's one, check if it's complete\n",
    "        if tmp['totalAttempts'] == 1:\n",
    "            # Get the attempt timestamp\n",
    "            timestamp = list(tmp['rawData'].keys())[0]\n",
    "        elif tmp['totalAttempts'] > 1:\n",
    "            # For multiple attempts, find the occurence with the highest number of completed trial_layouts\n",
    "            indAttempts = [] # individual attempts\n",
    "            for i in range(tmp['totalAttempts']):\n",
    "                # Get the sdata for this timestamp, and get the length of the expt_index array\n",
    "                try:\n",
    "                    attNum = len(json.loads(tmp['rawData'][tmp['timestamps'][i]]['sdata'])['expt_index'])\n",
    "                    indAttempts.append(attNum)\n",
    "                except:\n",
    "                    indAttempts.append(0)\n",
    "            # Get the index of the value with the greatest magnitude\n",
    "            timestamp = tmp['timestamps'][np.argmax(indAttempts)]\n",
    "            \n",
    "        # Use the timestamp to add sdata to tmp\n",
    "        try:\n",
    "            tmp['sdata'] = json.loads(tmp['rawData'][timestamp]['sdata'])\n",
    "        except:\n",
    "            if tmp['rawData'][timestamp]['sdata'] == None or len(tmp['rawData'][timestamp]['sdata']) == 0:\n",
    "                tmp['sdata'] = None\n",
    "        if tmp['sdata'] != None:\n",
    "            # Check if complete by:\n",
    "            #    - trial_layout == 92 or\n",
    "            #    - trial_game == 80\n",
    "            # if len(Counter(tmp['sdata']['trial_layout']).keys()) >= 92:\n",
    "            if max(np.array(tmp['sdata']['trial_game'], dtype=np.float64)) >= 80:\n",
    "                tmp['completed'] = True\n",
    "                tmp['lastCompletedRound'] = len(tmp['sdata']['trial_game'])\n",
    "            else:\n",
    "                tmp['completed'] = False\n",
    "                tmp['lastCompletedRound'] = len(Counter(tmp['sdata']['trial_layout']).keys())\n",
    "            # Store how many trial_games they've seen\n",
    "            tmp['lastTrialGame'] = int(tmp['sdata']['trial_game'][-1])\n",
    "        else:\n",
    "            tmp['completed'] = False\n",
    "            tmp['lastCompletedRound'] = 0\n",
    "            \n",
    "        cleanData[tmp['pk']] = tmp\n",
    "    print(\"Dataset ready.\")\n",
    "    return cleanData"
   ]
  },
  {
   "cell_type": "code",
   "execution_count": 31,
   "metadata": {},
   "outputs": [],
   "source": [
    "def getRounds(cleanData):\n",
    "    rounds = {}\n",
    "    count = 0\n",
    "    for user in cleanData:\n",
    "        u = cleanData[user]\n",
    "        us = u['sdata']\n",
    "        if us is not None:\n",
    "            for i in range(len(u['sdata']['expt_index'])):\n",
    "                rounds[str(count)] = {\n",
    "                    \"pk\" : u['pk'],\n",
    "                    \"id\" : u['userId'],\n",
    "                    \"iv\" : None if (u['urlParameters'] is None or u['urlParameters']['iv'] == None) else urllib.parse.quote(u['urlParameters']['iv']),\n",
    "                    \"tag\" : None if (u['urlParameters'] is None or u['urlParameters']['tag'] == None) else urllib.parse.quote(u['urlParameters']['tag']),\n",
    "                    \"expt_index\": us['expt_index'][i],\n",
    "                    \"expt_trial\": us['expt_trial'][i],\n",
    "                    \"trial_layout\" : us['trial_layout'][i],\n",
    "                    \"trial_level\" : us['trial_level'][i],\n",
    "                    \"trial_solved\" : us['trial_solved'][i],\n",
    "                    \"trial_attempts\" : us['trial_attempts'][i],\n",
    "                    \"trial_game\" : us['trial_game'][i],\n",
    "                    \"trial_transfer\" : us['trial_transfer'][i],\n",
    "                    \"trial_test\" : us['trial_test'][i],\n",
    "                    \"round_start_time\" : None,\n",
    "                    \"round_end_time\" : None,\n",
    "                    \"last_room\" : None,\n",
    "                    \"roundAttempted\" : None,\n",
    "                    \"gameComplete\" : u[\"completed\"],\n",
    "                }\n",
    "\n",
    "                # Insert start time, end time, and roundAttempted\n",
    "                if len(us[\"resp\"][str(i)][\"timestamp\"]) != 0:\n",
    "                    # If an attempt has been made\n",
    "                    rounds[str(count)][\"round_start_time\"] = us[\"resp\"][str(i)][\"timestamp\"][0] - us[\"resp\"][str(i)][\"reactiontime\"][0]\n",
    "                    rounds[str(count)][\"round_end_time\"] = us[\"resp\"][str(i)][\"timestamp\"][-1]\n",
    "                    rounds[str(count)][\"roundAttempted\"] = True\n",
    "                else:\n",
    "                    rounds[str(count)][\"roundAttempted\"] = False\n",
    "                    \n",
    "                # Compute final room position as [x, y]. Scale is 0->10 and includes 2 walls\n",
    "                if len(us[\"resp\"][str(i)][\"xloc\"]) != 0 and len(us[\"resp\"][str(i)][\"yloc\"]) != 0:\n",
    "                    xloc = us[\"resp\"][str(i)][\"xloc\"][-1]\n",
    "                    yloc = us[\"resp\"][str(i)][\"yloc\"][-1]\n",
    "                    rounds[str(count)][\"last_room\"] = []\n",
    "                    if xloc < 3:\n",
    "                        rounds[str(count)][\"last_room\"].append(0)\n",
    "                    elif 3 < xloc < 7:\n",
    "                        rounds[str(count)][\"last_room\"].append(1)\n",
    "                    elif 7 < xloc < 11:\n",
    "                        rounds[str(count)][\"last_room\"].append(2)\n",
    "                    if yloc < 3:\n",
    "                        rounds[str(count)][\"last_room\"].append(0)\n",
    "                    elif 3 < yloc < 7:\n",
    "                        rounds[str(count)][\"last_room\"].append(1)\n",
    "                    elif 7 < yloc < 11:\n",
    "                        rounds[str(count)][\"last_room\"].append(2)\n",
    "                    rounds[str(count)][\"last_room\"] = str(rounds[str(count)][\"last_room\"]).replace(\",\", \"-\")\n",
    "\n",
    "                # Increase round count\n",
    "                count += 1\n",
    "\n",
    "    # Store as dataframe\n",
    "    rounds = pd.DataFrame.from_dict(rounds, orient=\"index\")\n",
    "\n",
    "    return rounds\n"
   ]
  },
  {
   "cell_type": "code",
   "execution_count": 32,
   "metadata": {},
   "outputs": [
    {
     "ename": "TypeError",
     "evalue": "list indices must be integers or slices, not str",
     "output_type": "error",
     "traceback": [
      "\u001b[0;31m---------------------------------------------------------------------------\u001b[0m",
      "\u001b[0;31mKeyError\u001b[0m                                  Traceback (most recent call last)",
      "Cell \u001b[0;32mIn[30], line 47\u001b[0m, in \u001b[0;36mclean\u001b[0;34m(rawData)\u001b[0m\n\u001b[1;32m     46\u001b[0m \u001b[39mtry\u001b[39;00m:\n\u001b[0;32m---> 47\u001b[0m     tmp[\u001b[39m'\u001b[39m\u001b[39msdata\u001b[39m\u001b[39m'\u001b[39m] \u001b[39m=\u001b[39m json\u001b[39m.\u001b[39mloads(tmp[\u001b[39m'\u001b[39;49m\u001b[39mrawData\u001b[39;49m\u001b[39m'\u001b[39;49m][\u001b[39m'\u001b[39;49m\u001b[39msdata\u001b[39;49m\u001b[39m'\u001b[39;49m])\n\u001b[1;32m     48\u001b[0m \u001b[39mexcept\u001b[39;00m:\n",
      "\u001b[0;31mKeyError\u001b[0m: 'sdata'",
      "\nDuring handling of the above exception, another exception occurred:\n",
      "\u001b[0;31mTypeError\u001b[0m                                 Traceback (most recent call last)",
      "Cell \u001b[0;32mIn[32], line 1\u001b[0m\n\u001b[0;32m----> 1\u001b[0m cleanData \u001b[39m=\u001b[39m clean(qs)\n\u001b[1;32m      2\u001b[0m rounds \u001b[39m=\u001b[39m getRounds(cleanData)\n",
      "Cell \u001b[0;32mIn[30], line 49\u001b[0m, in \u001b[0;36mclean\u001b[0;34m(rawData)\u001b[0m\n\u001b[1;32m     47\u001b[0m     tmp[\u001b[39m'\u001b[39m\u001b[39msdata\u001b[39m\u001b[39m'\u001b[39m] \u001b[39m=\u001b[39m json\u001b[39m.\u001b[39mloads(tmp[\u001b[39m'\u001b[39m\u001b[39mrawData\u001b[39m\u001b[39m'\u001b[39m][\u001b[39m'\u001b[39m\u001b[39msdata\u001b[39m\u001b[39m'\u001b[39m])\n\u001b[1;32m     48\u001b[0m \u001b[39mexcept\u001b[39;00m:\n\u001b[0;32m---> 49\u001b[0m     \u001b[39mif\u001b[39;00m tmp[\u001b[39m'\u001b[39;49m\u001b[39mrawData\u001b[39;49m\u001b[39m'\u001b[39;49m][timestamp][\u001b[39m'\u001b[39;49m\u001b[39msdata\u001b[39;49m\u001b[39m'\u001b[39;49m] \u001b[39m==\u001b[39m \u001b[39mNone\u001b[39;00m \u001b[39mor\u001b[39;00m \u001b[39mlen\u001b[39m(tmp[\u001b[39m'\u001b[39m\u001b[39mrawData\u001b[39m\u001b[39m'\u001b[39m][timestamp][\u001b[39m'\u001b[39m\u001b[39msdata\u001b[39m\u001b[39m'\u001b[39m]) \u001b[39m==\u001b[39m \u001b[39m0\u001b[39m:\n\u001b[1;32m     50\u001b[0m         tmp[\u001b[39m'\u001b[39m\u001b[39msdata\u001b[39m\u001b[39m'\u001b[39m] \u001b[39m=\u001b[39m \u001b[39mNone\u001b[39;00m\n\u001b[1;32m     51\u001b[0m \u001b[39mif\u001b[39;00m tmp[\u001b[39m'\u001b[39m\u001b[39msdata\u001b[39m\u001b[39m'\u001b[39m] \u001b[39m!=\u001b[39m \u001b[39mNone\u001b[39;00m:\n\u001b[1;32m     52\u001b[0m     \u001b[39m# Check if complete by:\u001b[39;00m\n\u001b[1;32m     53\u001b[0m     \u001b[39m#    - trial_layout == 92 or\u001b[39;00m\n\u001b[1;32m     54\u001b[0m     \u001b[39m#    - trial_game == 80\u001b[39;00m\n\u001b[1;32m     55\u001b[0m     \u001b[39m# if len(Counter(tmp['sdata']['trial_layout']).keys()) >= 92:\u001b[39;00m\n",
      "\u001b[0;31mTypeError\u001b[0m: list indices must be integers or slices, not str"
     ]
    }
   ],
   "source": [
    "cleanData = clean(qs)\n",
    "rounds = getRounds(cleanData)"
   ]
  },
  {
   "cell_type": "code",
   "execution_count": 53,
   "metadata": {},
   "outputs": [],
   "source": [
    "rounds.to_csv('yr4/rwSept24_rounds.csv', index=False)"
   ]
  },
  {
   "cell_type": "code",
   "execution_count": 57,
   "metadata": {},
   "outputs": [
    {
     "data": {
      "text/plain": [
       "Index(['pk', 'id', 'iv', 'tag', 'expt_index', 'expt_trial', 'trial_layout',\n",
       "       'trial_level', 'trial_solved', 'trial_attempts', 'trial_game',\n",
       "       'trial_transfer', 'trial_test', 'round_start_time', 'round_end_time',\n",
       "       'last_room', 'roundAttempted', 'gameComplete'],\n",
       "      dtype='object')"
      ]
     },
     "execution_count": 57,
     "metadata": {},
     "output_type": "execute_result"
    }
   ],
   "source": [
    "rounds.columns"
   ]
  },
  {
   "cell_type": "code",
   "execution_count": null,
   "metadata": {},
   "outputs": [],
   "source": []
  }
 ],
 "metadata": {
  "kernelspec": {
   "display_name": ".venv",
   "language": "python",
   "name": "python3"
  },
  "language_info": {
   "codemirror_mode": {
    "name": "ipython",
    "version": 3
   },
   "file_extension": ".py",
   "mimetype": "text/x-python",
   "name": "python",
   "nbconvert_exporter": "python",
   "pygments_lexer": "ipython3",
   "version": "3.10.7"
  },
  "orig_nbformat": 4,
  "vscode": {
   "interpreter": {
    "hash": "2af3e74c77804eabf4ed3fa3c408c8f0696463e74f76c3d29815837338750af1"
   }
  }
 },
 "nbformat": 4,
 "nbformat_minor": 2
}
