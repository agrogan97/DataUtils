{
 "cells": [
  {
   "cell_type": "code",
   "execution_count": 1,
   "metadata": {},
   "outputs": [],
   "source": [
    "import json\n",
    "import pandas as pd\n",
    "import urllib.parse\n",
    "from collections import Counter\n",
    "import numpy as np"
   ]
  },
  {
   "cell_type": "code",
   "execution_count": 2,
   "metadata": {},
   "outputs": [],
   "source": [
    "### PARAMETERS\n",
    "# ------------\n",
    "\n",
    "# The path to the raw data as json - NB: this should be unedited data straight from the server\n",
    "jsonPath = \"C:/Users/agrog/Documents/Oxford/analysis/effugium/y2/rw_24_all.json\"\n",
    "# The path to where the csv should be saved\n",
    "csvPath = \"C:/Users/agrog/Documents/Oxford/analysis/effugium/y2/rw_24_all.csv\"\n",
    "# Path to the duplicate file\n",
    "duplicates = \"C:/Users/agrog/Documents/Oxford/analysis/effugium/y2/duplicates.csv\"\n",
    "\n",
    "# ------------"
   ]
  },
  {
   "cell_type": "code",
   "execution_count": 3,
   "metadata": {},
   "outputs": [],
   "source": [
    "with open(jsonPath, 'rb') as h:\n",
    "    qs = json.load(h)\n",
    "\n",
    "jsonData = qs.replace(\"'\", '\"')\n",
    "data = json.loads(jsonData)"
   ]
  },
  {
   "cell_type": "code",
   "execution_count": 4,
   "metadata": {},
   "outputs": [],
   "source": [
    "def clean(rawData):\n",
    "    cleanData = {}\n",
    "    for userAll in rawData:\n",
    "        pk = userAll['pk']\n",
    "        user = userAll['fields']\n",
    "        tmp = {\n",
    "            'pk' : pk,\n",
    "            'userId' : urllib.parse.quote(user['userId']),\n",
    "            'rawData' : json.loads(user['rawData']),\n",
    "            'sdata' : None,\n",
    "            'edata' : user['edata'],\n",
    "            'parameters' : user['parameters'],\n",
    "            'totalAttempts' : None,\n",
    "            'completed' : user['completeAttempt'],\n",
    "            'lastCompletedRound' : None,\n",
    "            'lastTrialGame' : None,\n",
    "            'finalRooms' : [],\n",
    "            'userIP' : user['userIP'],\n",
    "            'urlParameters' : user['urlParameters'],\n",
    "            'timestamps' : [],\n",
    "            'timeCreated' : user['timeCreated'],\n",
    "            'lastModified' : user['lastModified']\n",
    "        }\n",
    "        # Check how many attempts the user has had\n",
    "        tmp['totalAttempts'] = len(tmp['rawData'])\n",
    "        # Store timestamp/s\n",
    "        tmp['timestamps'] = list(tmp['rawData'].keys())\n",
    "        # If it's one, check if it's complete\n",
    "        if tmp['totalAttempts'] == 1:\n",
    "            # Get the attempt timestamp\n",
    "            timestamp = list(tmp['rawData'].keys())[0]\n",
    "        elif tmp['totalAttempts'] > 1:\n",
    "            # For multiple attempts, find the occurence with the highest number of completed trial_layouts\n",
    "            indAttempts = [] # individual attempts\n",
    "            for i in range(tmp['totalAttempts']):\n",
    "                # Get the sdata for this timestamp, and get the length of the expt_index array\n",
    "                try:\n",
    "                    attNum = len(json.loads(tmp['rawData'][tmp['timestamps'][i]]['sdata'])['expt_index'])\n",
    "                    indAttempts.append(attNum)\n",
    "                except:\n",
    "                    indAttempts.append(0)\n",
    "            # Get the index of the value with the greatest magnitude\n",
    "            timestamp = tmp['timestamps'][np.argmax(indAttempts)]\n",
    "            \n",
    "        # Use the timestamp to add sdata to tmp\n",
    "        try:\n",
    "            tmp['sdata'] = json.loads(tmp['rawData'][timestamp]['sdata'])\n",
    "        except:\n",
    "            if tmp['rawData'][timestamp]['sdata'] == None or len(tmp['rawData'][timestamp]['sdata']) == 0:\n",
    "                tmp['sdata'] = None\n",
    "        if tmp['sdata'] != None:\n",
    "            # Check if complete by:\n",
    "            #    - trial_layout == 92 or\n",
    "            #    - trial_game == 80\n",
    "            # if len(Counter(tmp['sdata']['trial_layout']).keys()) >= 92:\n",
    "            if max(np.array(tmp['sdata']['trial_game'], dtype=np.float64)) >= 80:\n",
    "                tmp['completed'] = True\n",
    "                tmp['lastCompletedRound'] = len(tmp['sdata']['trial_game'])\n",
    "            else:\n",
    "                tmp['completed'] = False\n",
    "                tmp['lastCompletedRound'] = len(Counter(tmp['sdata']['trial_layout']).keys())\n",
    "            # Store how many trial_games they've seen\n",
    "            tmp['lastTrialGame'] = int(tmp['sdata']['trial_game'][-1])\n",
    "        else:\n",
    "            tmp['completed'] = False\n",
    "            tmp['lastCompletedRound'] = 0\n",
    "            \n",
    "        cleanData[tmp['pk']] = tmp\n",
    "    print(\"Dataset ready.\")\n",
    "    return cleanData"
   ]
  },
  {
   "cell_type": "code",
   "execution_count": 5,
   "metadata": {},
   "outputs": [],
   "source": [
    "def getRounds(cleanData):\n",
    "    rounds = {}\n",
    "    count = 0\n",
    "    for user in cleanData:\n",
    "        u = cleanData[user]\n",
    "        us = u['sdata']\n",
    "        if us is not None:\n",
    "            for i in range(len(u['sdata']['expt_index'])):\n",
    "                rounds[str(count)] = {\n",
    "                    \"pk\" : u['pk'],\n",
    "                    \"id\" : u['userId'],\n",
    "                    \"iv\" : None if (u['urlParameters'] is None or u['urlParameters']['iv'] == None) else urllib.parse.quote(u['urlParameters']['iv']),\n",
    "                    \"tag\" : None if (u['urlParameters'] is None or u['urlParameters']['tag'] == None) else urllib.parse.quote(u['urlParameters']['tag']),\n",
    "                    \"expt_index\": us['expt_index'][i],\n",
    "                    \"expt_trial\": us['expt_trial'][i],\n",
    "                    \"trial_layout\" : us['trial_layout'][i],\n",
    "                    \"trial_level\" : us['trial_level'][i],\n",
    "                    \"trial_solved\" : us['trial_solved'][i],\n",
    "                    \"trial_attempts\" : us['trial_attempts'][i],\n",
    "                    \"trial_game\" : us['trial_game'][i],\n",
    "                    \"trial_transfer\" : us['trial_transfer'][i],\n",
    "                    \"trial_test\" : us['trial_test'][i],\n",
    "                    \"round_start_time\" : None,\n",
    "                    \"round_end_time\" : None,\n",
    "                    \"last_room\" : None,\n",
    "                    \"roundAttempted\" : None,\n",
    "                    \"gameComplete\" : u[\"completed\"],\n",
    "                }\n",
    "\n",
    "                # Insert start time, end time, and roundAttempted\n",
    "                if len(us[\"resp\"][str(i)][\"timestamp\"]) != 0:\n",
    "                    # If an attempt has been made\n",
    "                    rounds[str(count)][\"round_start_time\"] = us[\"resp\"][str(i)][\"timestamp\"][0] - us[\"resp\"][str(i)][\"reactiontime\"][0]\n",
    "                    rounds[str(count)][\"round_end_time\"] = us[\"resp\"][str(i)][\"timestamp\"][-1]\n",
    "                    rounds[str(count)][\"roundAttempted\"] = True\n",
    "                else:\n",
    "                    rounds[str(count)][\"roundAttempted\"] = False\n",
    "                    \n",
    "                # Compute final room position as [x, y]. Scale is 0->10 and includes 2 walls\n",
    "                if len(us[\"resp\"][str(i)][\"xloc\"]) != 0 and len(us[\"resp\"][str(i)][\"yloc\"]) != 0:\n",
    "                    xloc = us[\"resp\"][str(i)][\"xloc\"][-1]\n",
    "                    yloc = us[\"resp\"][str(i)][\"yloc\"][-1]\n",
    "                    rounds[str(count)][\"last_room\"] = []\n",
    "                    if xloc < 3:\n",
    "                        rounds[str(count)][\"last_room\"].append(0)\n",
    "                    elif 3 < xloc < 7:\n",
    "                        rounds[str(count)][\"last_room\"].append(1)\n",
    "                    elif 7 < xloc < 11:\n",
    "                        rounds[str(count)][\"last_room\"].append(2)\n",
    "                    if yloc < 3:\n",
    "                        rounds[str(count)][\"last_room\"].append(0)\n",
    "                    elif 3 < yloc < 7:\n",
    "                        rounds[str(count)][\"last_room\"].append(1)\n",
    "                    elif 7 < yloc < 11:\n",
    "                        rounds[str(count)][\"last_room\"].append(2)\n",
    "                    rounds[str(count)][\"last_room\"] = str(rounds[str(count)][\"last_room\"]).replace(\",\", \"-\")\n",
    "\n",
    "                # Increase round count\n",
    "                count += 1\n",
    "\n",
    "    # Store as dataframe\n",
    "    rounds = pd.DataFrame.from_dict(rounds, orient=\"index\")\n",
    "\n",
    "    return rounds\n"
   ]
  },
  {
   "cell_type": "code",
   "execution_count": null,
   "metadata": {},
   "outputs": [],
   "source": [
    "def filterDuplicates(cleanData, duplicates):\n",
    "    # Clean data is datasets.cleanData as a dataframe\n",
    "    # duplicates is a csv file of duplicates straight from snowflake loaded as a dataframe\n",
    "    # Make a dataframe that only has duplicated IDs in\n",
    "    countedDict = Counter(duplicates[\"USER_ID\"])\n",
    "    duplicateIDs = [i for i in countedDict if countedDict[i] >= 2]\n",
    "    # Create groups of duplicate IDs used per person\n",
    "    duplicateHashedIDs = []\n",
    "    for id in duplicateIDs:\n",
    "        tmp = duplicates.loc[duplicates[\"USER_ID\"] == id][\"ID\"]\n",
    "        duplicateHashedIDs.append(list(tmp))\n",
    "\n",
    "    # Get the IDs associated with the first attempt for each set of duplicates\n",
    "    firstAttempts = []\n",
    "    notFirstAttempts = []\n",
    "    for individual in duplicateHashedIDs:\n",
    "        # Get each attempt from the IDS (2 or 3 at a time typically) and find only the earliest timestamped one\n",
    "        repeats = cleanData.loc[cleanData[\"userId\"].isin(individual)]\n",
    "        # Get the index of the smallest - i.e. earliest in epoch time - timestamp\n",
    "        firstTimestamp = np.argmin([int(i[0]) for i in list(repeats[\"timestamps\"])])\n",
    "        # Add the ID associated with the first attempt to the list\n",
    "        firstAttempts.append(individual[firstTimestamp])\n",
    "        # also store the repeats\n",
    "        [notFirstAttempts.append(i) for i in individual if i != individual[firstTimestamp]]\n",
    "\n",
    "    # Create a dataframe of the cleanData, with only the first gameplay attempts, and remove the rest\n",
    "    filteredCleanData = cleanData.loc[~cleanData[\"userId\"].isin(notFirstAttempts)]\n",
    "    \n",
    "    return filteredCleanData\n",
    "    "
   ]
  },
  {
   "cell_type": "code",
   "execution_count": 6,
   "metadata": {},
   "outputs": [
    {
     "name": "stdout",
     "output_type": "stream",
     "text": [
      "Dataset ready.\n"
     ]
    }
   ],
   "source": [
    "# Clean the raw data\n",
    "cleanData = clean(data)\n",
    "# Load in duplicate crosswalk\n",
    "duplicates = pd.read_csv(\"y2/duplicates.csv\")\n",
    "# Filter duplicates\n",
    "filteredCleanData = filterDuplicates(cleanData, duplicates)\n",
    "# Convert filtered data from DF to dict\n",
    "cleanData = pd.DataFrame.to_dict(filteredCleanData, orient=\"index\")\n",
    "# Get round-level data\n",
    "rounds = getRounds(cleanData)"
   ]
  },
  {
   "cell_type": "code",
   "execution_count": 25,
   "metadata": {},
   "outputs": [],
   "source": [
    "rounds.to_csv(csvPath, index=False)"
   ]
  },
  {
   "cell_type": "code",
   "execution_count": 17,
   "metadata": {},
   "outputs": [
    {
     "data": {
      "text/plain": [
       "Counter({False: 6196, True: 6639})"
      ]
     },
     "execution_count": 17,
     "metadata": {},
     "output_type": "execute_result"
    }
   ],
   "source": [
    "Counter(filteredCleanData[\"completed\"])"
   ]
  }
 ],
 "metadata": {
  "kernelspec": {
   "display_name": ".venv",
   "language": "python",
   "name": "python3"
  },
  "language_info": {
   "codemirror_mode": {
    "name": "ipython",
    "version": 3
   },
   "file_extension": ".py",
   "mimetype": "text/x-python",
   "name": "python",
   "nbconvert_exporter": "python",
   "pygments_lexer": "ipython3",
   "version": "3.7.8"
  },
  "orig_nbformat": 4,
  "vscode": {
   "interpreter": {
    "hash": "2af3e74c77804eabf4ed3fa3c408c8f0696463e74f76c3d29815837338750af1"
   }
  }
 },
 "nbformat": 4,
 "nbformat_minor": 2
}
